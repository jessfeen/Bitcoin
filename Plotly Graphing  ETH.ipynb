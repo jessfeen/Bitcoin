{
 "cells": [
  {
   "cell_type": "code",
   "execution_count": 1,
   "metadata": {
    "collapsed": true
   },
   "outputs": [],
   "source": [
    "import plotly.plotly as py\n",
    "import pyodbc\n",
    "import pandas as pd\n",
    "import plotly \n",
    "#plotly.tools.set_credentials_file(username='conorkennedy999', api_key='hi56ajx01x') #Conor\n",
    "\n",
    "#plotly.tools.set_credentials_file(username='KarinaGorasia', api_key='lhtoc2IGTIajg0LYw0cG') #Karina\n",
    "plotly.tools.set_credentials_file(username='Jessfeeney1', api_key='PpgPAOTlLRUv0vlGsIpn') #Jess\n",
    "\n",
    "from plotly.graph_objs import *\n",
    "import plotly.graph_objs as go\n"
   ]
  },
  {
   "cell_type": "code",
   "execution_count": 3,
   "metadata": {
    "collapsed": true
   },
   "outputs": [],
   "source": [
    "conn = pyodbc.connect(r'DSN=BitcoinTwitter;UID=bitcoinandtwitterscrapper;PWD=password')\n",
    "cursor =conn.cursor()\n",
    "cursor.execute('with cte as ( select dateadd(hour, datediff(hour, 0, cast([datetime]as datetime)), 0) [Hour], dateadd(MINUTE, datediff(MINUTE, 0, cast([datetime]as datetime)), 0) [Min], [neg], [neu], [pos], [compound] from TwitterFeedETH where neu <> 1)select distinct[hour],count(*) over( partition by [Hour] order by [hour]) [Amount of Tweets per hour],avg(compound) over (partition by [Hour] order by [hour]) [Average sentiment per hour]from cte');\n",
    "rows = cursor.fetchall()\n"
   ]
  },
  {
   "cell_type": "code",
   "execution_count": 5,
   "metadata": {},
   "outputs": [
    {
     "data": {
      "text/html": [
       "<iframe id=\"igraph\" scrolling=\"no\" style=\"border:none;\" seamless=\"seamless\" src=\"https://plot.ly/~Jessfeeney1/4.embed\" height=\"525px\" width=\"100%\"></iframe>"
      ],
      "text/plain": [
       "<plotly.tools.PlotlyDisplay object>"
      ]
     },
     "execution_count": 5,
     "metadata": {},
     "output_type": "execute_result"
    }
   ],
   "source": [
    "str(rows)[0:300]\n",
    "\n",
    "df = pd.DataFrame( [[ij for ij in i] for i in rows] )\n",
    "df.rename(columns={0:'Hour' ,1 : 'Amount of Tweets per hour' , 2:'Average sentiment per hour'  }, inplace=True);\n",
    " \n",
    "\n",
    "trace1 = go.Bar(\n",
    "    x=df['Hour'],\n",
    "    y=df['Average sentiment per hour'],\n",
    "    #text=country_names,\n",
    "    #barmode='group'\n",
    "    #mode='markers',\n",
    "    name = 'TwitterSentScore'\n",
    ")\n",
    "\n",
    "layout = Layout(\n",
    "    title='Time vs Sentiment',\n",
    "    xaxis=XAxis(title='Time' ),\n",
    "    yaxis=YAxis( title='Sentiment' ),\n",
    "    barmode='group'\n",
    "    \n",
    ")\n",
    "data = Data([trace1])\n",
    "fig = go.Figure(data=data, layout=layout)\n",
    "py.iplot(fig, filename='Time and Sent ')"
   ]
  },
  {
   "cell_type": "code",
   "execution_count": 6,
   "metadata": {},
   "outputs": [
    {
     "data": {
      "text/html": [
       "<iframe id=\"igraph\" scrolling=\"no\" style=\"border:none;\" seamless=\"seamless\" src=\"https://plot.ly/~Jessfeeney1/6.embed\" height=\"525px\" width=\"100%\"></iframe>"
      ],
      "text/plain": [
       "<plotly.tools.PlotlyDisplay object>"
      ]
     },
     "execution_count": 6,
     "metadata": {},
     "output_type": "execute_result"
    }
   ],
   "source": [
    "str(rows)[0:300]\n",
    "\n",
    "\n",
    "df = pd.DataFrame( [[ij for ij in i] for i in rows] )\n",
    "df.rename(columns={0:'Hour' ,1 : 'Amount of Tweets per hour' , 2:'Average sentiment per hour'  }, inplace=True);\n",
    " \n",
    "\n",
    "trace1 = go.Bar(\n",
    "    x=df['Hour'],\n",
    "    y=df['Amount of Tweets per hour'],\n",
    "    #text=country_names,\n",
    "    #barmode='group'\n",
    "    #mode='markers',\n",
    "    name = 'TweetsperHour'\n",
    ")\n",
    "\n",
    "layout = Layout(\n",
    "    title='Time vs Tweet Count',\n",
    "    xaxis=XAxis(title='Time' ),\n",
    "    yaxis=YAxis( title='Count' ),\n",
    "    barmode='group'\n",
    "    \n",
    ")\n",
    "data = Data([trace1])\n",
    "fig = go.Figure(data=data, layout=layout)\n",
    "py.iplot(fig, filename='Time and Tweet Count ')"
   ]
  },
  {
   "cell_type": "code",
   "execution_count": null,
   "metadata": {
    "collapsed": true
   },
   "outputs": [],
   "source": []
  }
 ],
 "metadata": {
  "kernelspec": {
   "display_name": "Python 3",
   "language": "python",
   "name": "python3"
  },
  "language_info": {
   "codemirror_mode": {
    "name": "ipython",
    "version": 3
   },
   "file_extension": ".py",
   "mimetype": "text/x-python",
   "name": "python",
   "nbconvert_exporter": "python",
   "pygments_lexer": "ipython3",
   "version": "3.6.1"
  }
 },
 "nbformat": 4,
 "nbformat_minor": 2
}
