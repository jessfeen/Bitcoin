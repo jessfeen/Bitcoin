{
 "cells": [
  {
   "cell_type": "code",
   "execution_count": 35,
   "metadata": {},
   "outputs": [],
   "source": [
    "import plotly\n",
    "plotly.__version__\n",
    "plotly.tools.set_credentials_file(username='KarinaGorasia', api_key='lhtoc2IGTIajg0LYw0cG')\n",
    "import plotly.plotly as py\n",
    "from plotly.graph_objs import *\n",
    "import plotly.graph_objs as go\n",
    "\n",
    "import pyodbc\n",
    "import pandas as pd"
   ]
  },
  {
   "cell_type": "code",
   "execution_count": 36,
   "metadata": {},
   "outputs": [
    {
     "data": {
      "text/html": [
       "<iframe id=\"igraph\" scrolling=\"no\" style=\"border:none;\" seamless=\"seamless\" src=\"https://plot.ly/~KarinaGorasia/4.embed\" height=\"525px\" width=\"100%\"></iframe>"
      ],
      "text/plain": [
       "<plotly.tools.PlotlyDisplay object>"
      ]
     },
     "execution_count": 36,
     "metadata": {},
     "output_type": "execute_result"
    }
   ],
   "source": [
    "conn = pyodbc.connect(r'DSN=TwitterScraper')\n",
    "cursor =conn.cursor()\n",
    "cursor.execute('select * from BitcoinRate');\n",
    "#cursor1 =conn.cursor()\n",
    "#cursor1.execute('select * from TwitterRate');\n",
    "\n",
    "rows = cursor.fetchall()\n",
    "str(rows)[0:300]\n",
    "\n",
    "\n",
    "df = pd.DataFrame( [[ij for ij in i] for i in rows] )\n",
    "df.rename(columns={0: 'BTC', 1: 'USD', 2: 'EUR', 3: 'GBP', 4:'datetime' , 5:'date', 6:'time'}, inplace=True);\n",
    "\n",
    "\n",
    "trace1 = go.Scatter(\n",
    "    x=df['datetime'],\n",
    "    y=df['BTC'],\n",
    "    #text=country_names,\n",
    "    mode='lines',\n",
    "    name = 'BTCRate'\n",
    ")\n",
    "trace2 = go.Scatter(\n",
    "    x=df['datetime'],\n",
    "    y=df['USD'],\n",
    "    yaxis='y2',\n",
    "    #text=country_names,\n",
    "    mode='lines',\n",
    "    name = 'USDRate'\n",
    ")\n",
    "layout = Layout(\n",
    "    title='Time and BTC price',\n",
    "    xaxis=XAxis(title='Time' ),\n",
    "    yaxis=YAxis( title='BTC' ),\n",
    "    yaxis2=dict( title='USD', \n",
    "                titlefont=dict( color='rgb(148, 103, 189)' ), \n",
    "                tickfont=dict( color='rgb(148, 103, 189)' ), \n",
    "                overlaying='y', side='right' )\n",
    "    \n",
    ")\n",
    "data = Data([trace1, trace2])\n",
    "fig = go.Figure(data=data, layout=layout)\n",
    "py.iplot(fig, filename='Time and BTC price')"
   ]
  },
  {
   "cell_type": "code",
   "execution_count": null,
   "metadata": {
    "collapsed": true
   },
   "outputs": [],
   "source": []
  },
  {
   "cell_type": "code",
   "execution_count": null,
   "metadata": {
    "collapsed": true
   },
   "outputs": [],
   "source": []
  }
 ],
 "metadata": {
  "kernelspec": {
   "display_name": "Python 3",
   "language": "python",
   "name": "python3"
  },
  "language_info": {
   "codemirror_mode": {
    "name": "ipython",
    "version": 3
   },
   "file_extension": ".py",
   "mimetype": "text/x-python",
   "name": "python",
   "nbconvert_exporter": "python",
   "pygments_lexer": "ipython3",
   "version": "3.6.1"
  }
 },
 "nbformat": 4,
 "nbformat_minor": 2
}
