{
 "cells": [
  {
   "cell_type": "code",
   "execution_count": 1,
   "metadata": {
    "collapsed": true
   },
   "outputs": [],
   "source": [
    "import plotly.plotly as py\n",
    "import pyodbc\n",
    "import pandas as pd\n",
    "import plotly \n",
    "plotly.tools.set_credentials_file(username='conorkennedy999', api_key='hi56ajx01x')\n"
   ]
  },
  {
   "cell_type": "code",
   "execution_count": 11,
   "metadata": {
    "scrolled": true
   },
   "outputs": [
    {
     "name": "stdout",
     "output_type": "stream",
     "text": [
      "[(0.08025, 205.48, 175.48, 166.77, '2017-07-25  14:31:51', '2017-07-25', '14:31:51'), (0.08023, 205.39, 175.5, 166.77, '2017-07-25  14:32:08', '2017-07-25', '14:32:08'), (0.08021, 205.26, 175.76, 166.77, '2017-07-25  14:32:21', '2017-07-25', '14:32:21'), (0.08022, 205.58, 175.83, 166.77, '2017-07-25  14:32:38', '2017-07-25', '14:32:38'), (0.08022, 205.58, 175.83, 166.77, '2017-07-25  14:32:51', '2017-07-25', '14:32:51'), (0.08026, 205.65, 175.83, 166.77, '2017-07-25  14:33:08', '2017-07-25', '14:33:08'), (0.08027, 205.69, 175.83, 166.77, '2017-07-25  14:33:21', '2017-07-25', '14:33:21'), (0.08029, 205.94, 175.65, 166.77, '2017-07-25  14:33:51', '2017-07-25', '14:33:51'), (0.0803, 205.89, 175.69, 166.77, '2017-07-25  14:34:21', '2017-07-25', '14:34:21'), (0.08034, 205.98, 175.92, 166.77, '2017-07-25  14:34:51', '2017-07-25', '14:34:51')]\n",
      "[('hendraka', None, 'Tue Sep 08 18:36:03 +0000 2009', 'RT @StuffGoGo: We are listed on #cointelegraph!\\n\\nhttps://t.co/WiIgxIY4uP\\n\\n#ico #stuffgogo #ethereum #bitcoin https://t.co/4sFBThpCJE', 0.0, 1.0, 0.0, 0.0, '2017-07-25  14:31:45', '2017-07-25', '14:31:45'), ('algorythm117', 'Genève, Suisse', 'Mon Aug 08 10:53:57 +0000 2016', 'RT @Korben: Où acheter des crytpomonnaies ? Bitcoin, Ethereum, ZCash, Ripple…etc https://t.co/hMkVNE9UwO', 0.0, 1.0, 0.0, 0.0, '2017-07-25  14:31:45', '2017-07-25', '14:31:45'), ('BitcoinRatBot', 'everywhere ... but nowhere !', 'Sat Feb 18 13:46:18 +0000 2017', '#Bitcoin #block: 477514\\nOutput: 70,529.15926469 BTC\\nFees: 0.40920240\\nTx: 632 OP_Ret: 13\\nDiff Adj. in 278 blocks\\nTime: 2017-07-25 13:31:21', 0.085, 0.804, 0.112, 0.1531, '2017-07-25  14:31:47', '2017-07-25', '14:31:47'), ('RobertRTucci', None, 'Fri Aug 07 16:52:04 +0000 2015', '@lindyhanson Goal: use quantum computing to do Bitcoin mining with less energy consumption!!… https://t.co/1X37D4OvWh', 0.0, 0.845, 0.155, 0.338, '2017-07-25  14:31:48', '2017-07-25', '14:31:48'), ('bradnelsonops', 'Dallas, Texas', 'Thu Aug 13 19:19:43 +0000 2009', 'RT @MikeQuindazzi: 95 #bitcoin &amp; #blockchain #startups across #finserv, #socialmedia, #cryptocurrency, #IoT. #fintech #insurtech… ', 0.0, 1.0, 0.0, 0.0, '2017-07-25  14:31:48', '2017-07-25', '14:31:48'), ('MagicCityMauler', 'New York, USA', 'Wed Jan 11 02:19:35 +0000 2012', 'RT @Cointelegraph: #Bitcoin Virus ‘Has Infected 30% Of #Russian Devices’: Putin Advisor https://t.co/SFUT7dgzpK - by @WilliamSuberg', 0.186, 0.814, 0.0, -0.4939, '2017-07-25  14:31:48', '2017-07-25', '14:31:48'), ('MuzTakkTesol', 'Japan', 'Wed Mar 08 11:24:39 +0000 2017', '【限定公開中】BitCoinがどんなものか気になる人はこっそりこれで理解できるよ https://t.co/PSXXkVIasi https://t.co/QUkIpHSPZm', 0.0, 1.0, 0.0, 0.0, '2017-07-25  14:31:49', '2017-07-25', '14:31:49'), ('Cryptofuryy', 'badman place', 'Tue Jun 07 23:27:49 +0000 2016', \"RT @cryptotatlises: $BTC \\nOuch!\\nOn the edge.\\nLet's see if support will turn into resistance.\\n#cryptocurrency #bitcoin https://t.co/Abjx6Ixc…\", 0.0, 0.85, 0.15, 0.4574, '2017-07-25  14:31:49', '2017-07-25', '14:31:49'), ('kryptokidz_', 'Brampton, Ontario', 'Wed Nov 25 19:30:07 +0000 2015', \"RT @SamouraiWallet: Likewise Samourai will not be enabling a 'BCC' wallet. We will however be enabling opt-in replay protection with a… \", 0.0, 1.0, 0.0, 0.0, '2017-07-25  14:31:50', '2017-07-25', '14:31:50'), ('ilemusag', 'Madrid, España', 'Fri Oct 07 08:35:33 +0000 2016', 'RT @JacBurns_Comext: What can you do w/ #Blockchain?\\n#Fintech #Bitcoin #Crowdfunding #IoT\\n#AI #ML #Security #technology #news… ', 0.0, 1.0, 0.0, 0.0, '2017-07-25  14:31:50', '2017-07-25', '14:31:50')]\n"
     ]
    }
   ],
   "source": [
    "conn = pyodbc.connect(r'DSN=BitcoinTwitter')\n",
    "cursor =conn.cursor()\n",
    "cursor.execute('select top 10 BTC  ,USD ,EUR ,GBP ,[datetime] ,[date],[time]from BitcoinRate2');\n",
    "\n",
    "bitcoin = cursor.fetchall()\n",
    "print(bitcoin)\n",
    "cursor.execute('select top 10 [user_ID],[User_Location] ,[Created_at], [Tweet] ,[neg] ,[neu] ,[pos] ,[compound] ,[datetime],[date],[time] from TwitterFeed2');\n",
    "twitter = cursor.fetchall()\n",
    "print(twitter)\n"
   ]
  },
  {
   "cell_type": "code",
   "execution_count": 13,
   "metadata": {},
   "outputs": [
    {
     "name": "stdout",
     "output_type": "stream",
     "text": [
      "[(0.08025, 205.48, 175.48, 166.77, '2017-07-25  14:31:51'), (0.08023, 205.39, 175.5, 166.77, '2017-07-25  14:32:08'), (0.08021, 205.26, 175.76, 166.77, '2017-07-25  14:32:21'), (0.08022, 205.58, 175.83, 166.77, '2017-07-25  14:32:38'), (0.08022, 205.58, 175.83, 166.77, '2017-07-25  14:32:51'), (0.08026, 205.65, 175.83, 166.77, '2017-07-25  14:33:08'), (0.08027, 205.69, 175.83, 166.77, '2017-07-25  14:33:21'), (0.08029, 205.94, 175.65, 166.77, '2017-07-25  14:33:51'), (0.0803, 205.89, 175.69, 166.77, '2017-07-25  14:34:21'), (0.08034, 205.98, 175.92, 166.77, '2017-07-25  14:34:51')]\n",
      "[(0.0, '2017-07-25  14:31:45'), (0.0, '2017-07-25  14:31:45'), (0.1531, '2017-07-25  14:31:47'), (0.338, '2017-07-25  14:31:48'), (0.0, '2017-07-25  14:31:48'), (-0.4939, '2017-07-25  14:31:48'), (0.0, '2017-07-25  14:31:49'), (0.4574, '2017-07-25  14:31:49'), (0.0, '2017-07-25  14:31:50'), (0.0, '2017-07-25  14:31:50')]\n"
     ]
    }
   ],
   "source": [
    "conn = pyodbc.connect(r'DSN=BitcoinTwitter')\n",
    "cursor =conn.cursor()\n",
    "cursor.execute('select top 10 BTC  ,USD ,EUR ,GBP ,[datetime]from BitcoinRate2');\n",
    "\n",
    "bitcoin = cursor.fetchall()\n",
    "print(bitcoin)\n",
    "cursor.execute('select top 10 [compound] ,[datetime] from TwitterFeed2');\n",
    "twitter = cursor.fetchall()\n",
    "print(twitter)\n"
   ]
  },
  {
   "cell_type": "code",
   "execution_count": null,
   "metadata": {
    "collapsed": true
   },
   "outputs": [],
   "source": []
  }
 ],
 "metadata": {
  "kernelspec": {
   "display_name": "Python 3",
   "language": "python",
   "name": "python3"
  },
  "language_info": {
   "codemirror_mode": {
    "name": "ipython",
    "version": 3
   },
   "file_extension": ".py",
   "mimetype": "text/x-python",
   "name": "python",
   "nbconvert_exporter": "python",
   "pygments_lexer": "ipython3",
   "version": "3.6.1"
  }
 },
 "nbformat": 4,
 "nbformat_minor": 2
}
