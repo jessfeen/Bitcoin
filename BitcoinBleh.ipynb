{
 "cells": [
  {
   "cell_type": "code",
   "execution_count": 4,
   "metadata": {},
   "outputs": [
    {
     "name": "stdout",
     "output_type": "stream",
     "text": [
      "[]\n"
     ]
    }
   ],
   "source": [
    "import requests\n",
    "from bs4 import BeautifulSoup\n",
    "import time\n",
    "import urllib\n",
    "import json\n",
    "from datetime import datetime as dt\n",
    "\n",
    "r=requests.get(\"https://min-api.cryptocompare.com/data/price?fsym=ETH&tsyms=BTC,USD,EUR,GBP\")\n",
    "c=r.content\n",
    "soup=BeautifulSoup(c,\"html.parser\")\n",
    "value=soup.find_all(\"span\",{\"class\":\"choiceValue\"})\n",
    "print(value)"
   ]
  },
  {
   "cell_type": "code",
   "execution_count": 5,
   "metadata": {
    "collapsed": true
   },
   "outputs": [],
   "source": [
    "import urllib.request, json \n",
    "import time, threading\n",
    "import pyodbc\n",
    "   \n",
    "conn = pyodbc.connect(r'DSN=TwitterScraper')\n",
    "curr = conn.cursor()"
   ]
  },
  {
   "cell_type": "code",
   "execution_count": 6,
   "metadata": {},
   "outputs": [
    {
     "name": "stdout",
     "output_type": "stream",
     "text": [
      "{\"BTC\":0.07944,\"USD\":196.36,\"EUR\":169.19,\"GBP\":155.36}\n"
     ]
    },
    {
     "data": {
      "text/plain": [
       "str"
      ]
     },
     "execution_count": 6,
     "metadata": {},
     "output_type": "execute_result"
    }
   ],
   "source": [
    "with urllib.request.urlopen(\"https://min-api.cryptocompare.com/data/price?fsym=ETH&tsyms=BTC,USD,EUR,GBP\") as url:\n",
    "    data = url.read().decode()\n",
    "    BitcoinString = str(data)\n",
    "    print(BitcoinString)\n",
    "    \n",
    "type(data)"
   ]
  },
  {
   "cell_type": "code",
   "execution_count": 7,
   "metadata": {},
   "outputs": [
    {
     "name": "stdout",
     "output_type": "stream",
     "text": [
      "0.07945\n",
      "196.63\n",
      "169.19\n",
      "155.36\n",
      "0.07937\n",
      "196.56\n",
      "169.79\n",
      "155.36\n",
      "0.0794\n",
      "196.65\n",
      "169.97\n",
      "155.36\n",
      "0.07953\n",
      "196.8\n",
      "170.06\n",
      "155.36\n",
      "0.07945\n",
      "196.86\n",
      "170.06\n",
      "155.36\n",
      "0.07969\n",
      "197.07\n",
      "170.05\n",
      "155.36\n",
      "0.07966\n",
      "196.88\n",
      "170.2\n",
      "155.36\n",
      "0.07965\n",
      "196.89\n",
      "170.08\n",
      "155.36\n",
      "0.07959\n",
      "196.89\n",
      "170.11\n",
      "155.36\n",
      "0.07969\n",
      "196.81\n",
      "170.09\n",
      "155.36\n",
      "0.07975\n",
      "196.95\n",
      "170.09\n",
      "155.36\n",
      "0.07974\n",
      "197.34\n",
      "170.15\n",
      "155.36\n",
      "0.07974\n",
      "197.39\n",
      "170.14\n",
      "155.36\n",
      "0.07971\n",
      "197.6\n",
      "170.2\n",
      "155.36\n",
      "0.07974\n",
      "197.72\n",
      "170.34\n",
      "155.36\n",
      "0.0797\n",
      "197.45\n",
      "170.1\n",
      "155.36\n",
      "0.07941\n",
      "196.59\n",
      "170.1\n",
      "155.36\n",
      "0.07937\n",
      "196.06\n",
      "169.78\n",
      "155.36\n",
      "0.07938\n",
      "196.05\n",
      "169.83\n",
      "155.36\n",
      "0.0794\n",
      "196.39\n",
      "169.71\n",
      "155.36\n",
      "0.0794\n",
      "196.41\n",
      "169.71\n",
      "155.36\n",
      "0.07945\n",
      "196.22\n",
      "169.71\n",
      "155.36\n",
      "0.07942\n",
      "196.02\n",
      "169.94\n",
      "155.36\n",
      "0.07943\n",
      "195.84\n",
      "169.52\n",
      "155.36\n",
      "0.0794\n",
      "195.95\n",
      "169.51\n",
      "155.36\n",
      "0.07938\n",
      "195.94\n",
      "169.49\n",
      "155.36\n",
      "0.07939\n",
      "195.91\n",
      "169.5\n",
      "155.36\n",
      "0.07943\n",
      "195.89\n",
      "169.8\n",
      "155.36\n",
      "0.07941\n",
      "195.98\n",
      "170.04\n",
      "155.36\n",
      "0.07942\n",
      "195.98\n",
      "169.96\n",
      "155.36\n",
      "0.07941\n",
      "195.92\n",
      "170.05\n",
      "155.36\n",
      "0.07934\n",
      "195.94\n",
      "170.05\n",
      "155.36\n",
      "0.07935\n",
      "196.12\n",
      "169.82\n",
      "155.36\n",
      "0.07931\n",
      "196.04\n",
      "170.01\n",
      "155.36\n",
      "0.07927\n",
      "196.04\n",
      "169.84\n",
      "155.36\n",
      "0.07925\n",
      "196.18\n",
      "169.86\n",
      "155.36\n",
      "0.07924\n",
      "196.73\n",
      "170.05\n",
      "155.36\n",
      "0.07919\n",
      "196.82\n",
      "170.04\n",
      "155.36\n",
      "0.07928\n",
      "196.86\n",
      "170.11\n",
      "155.36\n",
      "0.07929\n",
      "196.95\n",
      "170.11\n",
      "155.36\n",
      "0.07925\n",
      "196.99\n",
      "170.12\n",
      "153.39\n",
      "0.07921\n",
      "196.64\n",
      "170.15\n",
      "153.31\n",
      "0.07923\n",
      "196.82\n",
      "170.16\n",
      "153.37\n",
      "0.07926\n",
      "196.98\n",
      "170.19\n",
      "153.38\n",
      "0.07926\n",
      "196.83\n",
      "170.19\n",
      "153.51\n"
     ]
    }
   ],
   "source": [
    "class Timer(threading.Thread):\n",
    "    def __init__(self):\n",
    "        threading.Thread.__init__(self)\n",
    "        self.event = threading.Event()\n",
    "\n",
    "    def run(self):\n",
    "        while not self.event.is_set():\n",
    "            with urllib.request.urlopen(\"https://min-api.cryptocompare.com/data/price?fsym=ETH&tsyms=BTC,USD,EUR,GBP\") as url:\n",
    "                data = url.read().decode()#.json_t*json_string()\n",
    "                BTC = data.split(':')[1].split(',')[0]\n",
    "                USD = data.split(':')[2].split(',')[0]\n",
    "                EUR = data.split(':')[3].split(',')[0]\n",
    "                GBP = data.split(':')[4].split(',')[0].split('}')[0]\n",
    "                datetime = dt.now().strftime('%Y''-''%m''-''%d''  ''%X')\n",
    "                date  = dt.now().strftime('%Y''-''%m''-''%d')\n",
    "                time = dt.now().strftime('%X')\n",
    "                print(BTC)\n",
    "                print(USD)\n",
    "                print(EUR)\n",
    "                print(GBP)\n",
    "                curr.execute(\"INSERT INTO BitcoinRate ( BTC , USD , EUR , GBP, datetime, date, time) VALUES (?, ?, ?, ?, ?, ?, ?)\", BTC , USD , EUR , GBP, datetime, date, time )\n",
    "                conn.commit()\n",
    "                self.event.wait(30)\n",
    "\n",
    "    def stop(self):\n",
    "        self.event.set()\n",
    "        \n",
    "tmr = Timer()\n",
    "tmr.start()\n",
    "\n",
    "\n"
   ]
  },
  {
   "cell_type": "code",
   "execution_count": 6,
   "metadata": {},
   "outputs": [
    {
     "data": {
      "text/plain": [
       "dict"
      ]
     },
     "execution_count": 6,
     "metadata": {},
     "output_type": "execute_result"
    }
   ],
   "source": [
    "BitcoinDict = json.loads(BitcoinString)    \n",
    "type(BitcoinDict)"
   ]
  },
  {
   "cell_type": "code",
   "execution_count": 7,
   "metadata": {},
   "outputs": [
    {
     "data": {
      "text/plain": [
       "{'BTC': 0.08013, 'EUR': 185.07, 'GBP': 166.92, 'USD': 214.97}"
      ]
     },
     "execution_count": 7,
     "metadata": {},
     "output_type": "execute_result"
    }
   ],
   "source": [
    "BitcoinDict"
   ]
  },
  {
   "cell_type": "code",
   "execution_count": 2,
   "metadata": {},
   "outputs": [
    {
     "ename": "NameError",
     "evalue": "name 'time' is not defined",
     "output_type": "error",
     "traceback": [
      "\u001b[1;31m---------------------------------------------------------------------------\u001b[0m",
      "\u001b[1;31mNameError\u001b[0m                                 Traceback (most recent call last)",
      "\u001b[1;32m<ipython-input-2-f152bab7ba39>\u001b[0m in \u001b[0;36m<module>\u001b[1;34m()\u001b[0m\n\u001b[0;32m     22\u001b[0m \u001b[0mn\u001b[0m\u001b[1;33m=\u001b[0m\u001b[1;36m100000000000000\u001b[0m\u001b[1;33m\u001b[0m\u001b[0m\n\u001b[0;32m     23\u001b[0m \u001b[1;32mwhile\u001b[0m \u001b[0mn\u001b[0m \u001b[1;33m>\u001b[0m \u001b[1;36m0\u001b[0m\u001b[1;33m:\u001b[0m\u001b[1;33m\u001b[0m\u001b[0m\n\u001b[1;32m---> 24\u001b[1;33m     \u001b[0mtime\u001b[0m\u001b[1;33m.\u001b[0m\u001b[0msleep\u001b[0m\u001b[1;33m(\u001b[0m\u001b[1;36m10\u001b[0m\u001b[1;33m)\u001b[0m\u001b[1;33m\u001b[0m\u001b[0m\n\u001b[0m\u001b[0;32m     25\u001b[0m     \u001b[0mthreading\u001b[0m\u001b[1;33m.\u001b[0m\u001b[0mTimer\u001b[0m\u001b[1;33m(\u001b[0m\u001b[1;36m0\u001b[0m\u001b[1;33m,\u001b[0m \u001b[0mfoo\u001b[0m\u001b[1;33m)\u001b[0m\u001b[1;33m\u001b[0m\u001b[0m\n\u001b[0;32m     26\u001b[0m     \u001b[0mn\u001b[0m \u001b[1;33m=\u001b[0m \u001b[0mn\u001b[0m \u001b[1;33m-\u001b[0m \u001b[1;36m1\u001b[0m\u001b[1;33m\u001b[0m\u001b[0m\n",
      "\u001b[1;31mNameError\u001b[0m: name 'time' is not defined"
     ]
    }
   ],
   "source": [
    "def foo():\n",
    "    with urllib.request.urlopen(\"https://min-api.cryptocompare.com/data/price?fsym=ETH&tsyms=BTC,USD,EUR,GBP\") as url:\n",
    "        data = url.read().decode()#.json_t*json_string()\n",
    "        print(data)\n",
    "                #BitcoinString = json_t*json_string(data)\n",
    "                #BitcoinDict = json.loads(BitcoinString) \n",
    "               # print(BitcoinString)\n",
    "               # print(BitcoinDict)\n",
    "              #  datetime = dt.now().strftime('%Y''-''%m''-''%d''  ''%X')\n",
    "              #  date  = dt.now().strftime('%Y''-''%m''-''%d')\n",
    "          #  time = dt.now().strftime('%X')\n",
    "          #  BTC = BitcoinDict.get('BTC',-99)\n",
    "          #  USD = BitcoinDict.get('USD',-99)\n",
    "         #   EUR = BitcoinDict.get('EUR',-99)\n",
    "         #   GBP = BitcoinDict.get('GBP',-99)\n",
    "      #  curr.execute(\n",
    "    #       \"INSERT INTO BitcoinRate ( BTC , USD , EUR , GBP, datetime, date, time) VALUES (?, ?, ?, ?, ?, ?, ?)\",\n",
    "     #        BTC , USD , EUR , GBP, datetime, date, time )\n",
    "      #  conn.commit()\n",
    "    t = threading.Timer(11, foo)\n",
    "    \n",
    "n=100000000000000\n",
    "while n > 0:\n",
    "    time.sleep(10)\n",
    "    threading.Timer(0, foo)\n",
    "    n = n - 1\n",
    "\n",
    "    \n",
    "    \n",
    "t = threading.Timer(11, foo)\n",
    "t.start()\n"
   ]
  },
  {
   "cell_type": "code",
   "execution_count": 74,
   "metadata": {},
   "outputs": [
    {
     "name": "stdout",
     "output_type": "stream",
     "text": [
      "<function hello at 0x0000016ACD356488>\n",
      "<function hello at 0x0000016ACD356488>\n",
      "<function hello at 0x0000016ACD356488>\n",
      "<function hello at 0x0000016ACD356488>\n",
      "<function hello at 0x0000016ACD356488>\n",
      "<function hello at 0x0000016ACD356488>\n",
      "<function hello at 0x0000016ACD356488>\n",
      "<function hello at 0x0000016ACD356488>\n",
      "<function hello at 0x0000016ACD356488>\n",
      "<function hello at 0x0000016ACD356488>\n",
      "<function hello at 0x0000016ACD356488>\n"
     ]
    }
   ],
   "source": [
    "def hello():\n",
    "    print(hello)\n",
    "    t = threading.Timer(5.0, hello).start()\n",
    "\n",
    "t = threading.Timer(5.0, hello)\n",
    "t.start()"
   ]
  },
  {
   "cell_type": "code",
   "execution_count": null,
   "metadata": {
    "collapsed": true
   },
   "outputs": [],
   "source": []
  }
 ],
 "metadata": {
  "kernelspec": {
   "display_name": "Python 3",
   "language": "python",
   "name": "python3"
  },
  "language_info": {
   "codemirror_mode": {
    "name": "ipython",
    "version": 3
   },
   "file_extension": ".py",
   "mimetype": "text/x-python",
   "name": "python",
   "nbconvert_exporter": "python",
   "pygments_lexer": "ipython3",
   "version": "3.6.1"
  }
 },
 "nbformat": 4,
 "nbformat_minor": 2
}
